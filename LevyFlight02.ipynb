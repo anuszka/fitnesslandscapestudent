{
 "cells": [
  {
   "cell_type": "markdown",
   "metadata": {},
   "source": [
    "# Test simulation histograms with theoretical distributions, 2D Levy flight\n",
    "## The flights in each dimension are independent\n",
    "\n",
    "DUBKOV, A. A., SPAGNOLO, B., & UCHAIKIN, V. V. (2008). LÉVY FLIGHT SUPERDIFFUSION: AN INTRODUCTION. International Journal of Bifurcation and Chaos, 18(09), 2649–2672. https://doi.org/10.1142/S0218127408021877"
   ]
  },
  {
   "cell_type": "markdown",
   "metadata": {},
   "source": [
    "( Perhaps this one, too? Léval, M., & Huang, Y. (2015). Stationary densities of stable Lévy flights in external potentials. Imperial College London. https://github.com/melayadi/multivarFoxH )\n"
   ]
  },
  {
   "cell_type": "markdown",
   "metadata": {},
   "source": [
    "The flight in each dimension is independently described as:"
   ]
  },
  {
   "cell_type": "markdown",
   "metadata": {},
   "source": [
    "$ U(x) = \\gamma x^{2m}/(2m)   = \\gamma x^4/4 $ , \n",
    "\n",
    "$m=2$\n",
    "\n",
    "$ \\beta = \\sqrt[2m−1]{D/\\gamma} $ \n",
    "\n",
    "\n",
    "\n",
    "Example values:\n",
    "\n",
    "$ \\gamma = 1. $\n",
    "\n",
    "$ D = 0.1 $\n",
    "\n",
    "$  \\beta = \\sqrt[3]{0.1} $ \n",
    "\n",
    "$ \\alpha = 1 $"
   ]
  },
  {
   "cell_type": "code",
   "execution_count": 1,
   "metadata": {},
   "outputs": [],
   "source": [
    "import matplotlib.pyplot as plt\n",
    "import numpy as np\n",
    "import pandas as pd\n",
    "import matplotlib.pyplot as plt\n",
    "import numpy as np\n",
    "import pandas as pd\n",
    "\n",
    "from run import run\n",
    "\n",
    "\n",
    "output_dir=\"./output/\"\n",
    "output_log_file=\"out.log\""
   ]
  },
  {
   "cell_type": "code",
   "execution_count": 2,
   "metadata": {},
   "outputs": [],
   "source": [
    "T1=1e5\n",
    "Ntraj1=1\n",
    "dt1=0.1\n",
    "minDt = 0.\n",
    "D = 0.1\n",
    "gamma = 0.5\n",
    "\n",
    "output_data_file=f\"outT{T1:.0e}N{Ntraj1:.0e}dt{dt1:.0e}_single_traj.csv\"\n",
    "\n",
    "run(\n",
    "    output_dir,\n",
    "    output_data_file,\n",
    "    output_log_file,\n",
    "    alpha=1., \n",
    "    D=D,\n",
    "    gamma = gamma,\n",
    "    dt=dt1, \n",
    "    minDt=minDt,\n",
    "    eta=0.1,\n",
    "    T=T1, \n",
    "    t0=0., \n",
    "    x0=0.1,\n",
    "    y0=0.3\n",
    ")"
   ]
  },
  {
   "cell_type": "code",
   "execution_count": 3,
   "metadata": {},
   "outputs": [
    {
     "data": {
      "image/png": "[encoded data removed]",
      "text/plain": [
       "<Figure size 432x288 with 1 Axes>"
      ]
     },
     "metadata": {
      "needs_background": "light"
     },
     "output_type": "display_data"
    }
   ],
   "source": [
    "df=pd.read_csv(output_dir+output_data_file)\n",
    "\n",
    "fig, ax = plt.subplots(1,1)\n",
    "ax.plot(df.t, df.x , label=f\"x, dt={dt1}\")\n",
    "ax.plot(df.t, df.y , label=f\"y, dt={dt1}\")\n",
    "ax.legend(loc='best', frameon=False)\n",
    "ax.set_xlabel(\"t\")\n",
    "ax.set_ylabel(\"x, y\")\n",
    "plt.show()"
   ]
  },
  {
   "cell_type": "code",
   "execution_count": 4,
   "metadata": {},
   "outputs": [],
   "source": [
    "T1=1e2\n",
    "Ntraj1=1e5\n",
    "dt1=0.1\n",
    "\n",
    "D = 0.1\n",
    "gamma = 0.5\n",
    "\n",
    "output_data_file1=f\"outT{T1:.0e}N{Ntraj1:.0e}dt{dt1:.0e}.csv\"\n",
    "\n",
    "run(\n",
    "    output_dir,\n",
    "    output_data_file1,\n",
    "    output_log_file,\n",
    "    alpha=1., \n",
    "    D=D,\n",
    "    gamma = gamma,\n",
    "    dt=dt1, \n",
    "    minDt=minDt,\n",
    "    eta=0.1,\n",
    "    T=T1, \n",
    "    t0=0., \n",
    "    x0=0.1,\n",
    "    y0=0.3,\n",
    "    Ntraj=Ntraj1\n",
    ")"
   ]
  },
  {
   "cell_type": "code",
   "execution_count": 5,
   "metadata": {},
   "outputs": [
    {
     "data": {
      "image/png": "[encoded data removed]",
      "text/plain": [
       "<Figure size 432x288 with 1 Axes>"
      ]
     },
     "metadata": {
      "needs_background": "light"
     },
     "output_type": "display_data"
    }
   ],
   "source": [
    "Nbins = 75\n",
    "\n",
    "x = np.linspace(-2,2,200)\n",
    "beta = np.power(D/gamma, 1./3.)\n",
    "# y = beta**3. / (np.pi * (x**4. - (x**2.) * (beta**2.) + beta**4.) ) \n",
    "y = np.power(beta,3.) / (np.pi* (np.power(x,4.) - np.power(x,2.) * np.power(beta,2.) + np.power(beta,4.) )) # Źle?\n",
    "\n",
    "\n",
    "\n",
    "df1=pd.read_csv(output_dir+output_data_file1)\n",
    "\n",
    "range = (-2,2)\n",
    "\n",
    "fig, ax = plt.subplots(1,1)\n",
    "\n",
    "n_x, bins_x  = np.histogram(np.array(df1.x), bins=Nbins, range=range, density=True)\n",
    "n_y, bins_y  = np.histogram(np.array(df1.y), bins=Nbins, range=range, density=True)\n",
    "# Alternative: ax.hist with zero transparency\n",
    "# n,bins,patches=ax.hist(df1.X, bins=Nbins, range=range, density=True, histtype='stepfilled', alpha=0.) \n",
    "\n",
    "ax.scatter((bins_x[1:] + bins_x[:-1])/2., n_x, marker='o', color='blue', s=20, alpha=1,\\\n",
    "     label=f'x, T={T1:.0e}')\n",
    "ax.scatter((bins_y[1:] + bins_y[:-1])/2., n_y, marker='o', color='green', s=20, alpha=1,\\\n",
    "     label=f'y, T={T1:.0e}')\n",
    "ax.plot(x,y, color='orange')\n",
    "\n",
    "\n",
    "\n",
    "ax.legend(loc='best', frameon=False)\n",
    "ax.set_xlabel('X') \n",
    "ax.set_ylabel('pdf')\n",
    "ax.set_xlim(range)\n",
    "plt.show()"
   ]
  },
  {
   "cell_type": "code",
   "execution_count": null,
   "metadata": {},
   "outputs": [],
   "source": []
  }
 ],
 "metadata": {
  "interpreter": {
   "hash": "132aca64d4ea51954887ab438a6901813637e083010d9c7f8c7853f9a973fd78"
  },
  "kernelspec": {
   "display_name": "Python 3.9.12 ('Python3.9')",
   "language": "python",
   "name": "python3"
  },
  "language_info": {
   "codemirror_mode": {
    "name": "ipython",
    "version": 3
   },
   "file_extension": ".py",
   "mimetype": "text/x-python",
   "name": "python",
   "nbconvert_exporter": "python",
   "pygments_lexer": "ipython3",
   "version": "3.9.12"
  },
  "orig_nbformat": 4
 },
 "nbformat": 4,
 "nbformat_minor": 2
}
