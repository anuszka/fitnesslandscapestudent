{
 "cells": [
  {
   "attachments": {},
   "cell_type": "markdown",
   "metadata": {},
   "source": [
    "# Run ensemble simulation in loop"
   ]
  },
  {
   "cell_type": "code",
   "execution_count": 1,
   "metadata": {},
   "outputs": [],
   "source": [
    "%load_ext autoreload\n",
    "%autoreload 2"
   ]
  },
  {
   "cell_type": "code",
   "execution_count": 2,
   "metadata": {},
   "outputs": [
    {
     "name": "stdout",
     "output_type": "stream",
     "text": [
      "The autoreload extension is already loaded. To reload it, use:\n",
      "  %reload_ext autoreload\n"
     ]
    }
   ],
   "source": [
    "from runmfpt import runmfpt"
   ]
  },
  {
   "cell_type": "code",
   "execution_count": 3,
   "metadata": {},
   "outputs": [
    {
     "name": "stderr",
     "output_type": "stream",
     "text": [
      "rm: cannot remove '*.csv': No such file or directory\n",
      "rm: cannot remove '*.log': No such file or directory\n"
     ]
    },
    {
     "name": "stdout",
     "output_type": "stream",
     "text": [
      "Start simulation with alpha=0.1\n",
      "sh: 1: ./LevyFlight.run: not found\n",
      "\n",
      "outT5e+03N5e+03dt1e-01alpha1e-01_ensemble.csv saved\n",
      "Start simulation with alpha=0.2\n",
      "sh: 1: ./LevyFlight.run: not found\n",
      "\n",
      "outT5e+03N5e+03dt1e-01alpha2e-01_ensemble.csv saved\n",
      "Start simulation with alpha=0.3\n",
      "sh: 1: ./LevyFlight.run: not found\n",
      "\n",
      "outT5e+03N5e+03dt1e-01alpha3e-01_ensemble.csv saved\n",
      "Start simulation with alpha=0.4\n",
      "sh: 1: ./LevyFlight.run: not found\n",
      "\n",
      "outT5e+03N5e+03dt1e-01alpha4e-01_ensemble.csv saved\n",
      "Start simulation with alpha=0.5\n",
      "sh: 1: ./LevyFlight.run: not found\n",
      "\n",
      "outT5e+03N5e+03dt1e-01alpha5e-01_ensemble.csv saved\n",
      "Start simulation with alpha=0.6\n",
      "sh: 1: ./LevyFlight.run: not found\n",
      "\n",
      "outT5e+03N5e+03dt1e-01alpha6e-01_ensemble.csv saved\n",
      "Start simulation with alpha=0.7\n",
      "sh: 1: ./LevyFlight.run: not found\n",
      "\n",
      "outT5e+03N5e+03dt1e-01alpha7e-01_ensemble.csv saved\n",
      "Start simulation with alpha=0.8\n",
      "sh: 1: ./LevyFlight.run: not found\n",
      "\n",
      "outT5e+03N5e+03dt1e-01alpha8e-01_ensemble.csv saved\n",
      "Start simulation with alpha=0.9\n",
      "sh: 1: ./LevyFlight.run: not found\n",
      "\n",
      "outT5e+03N5e+03dt1e-01alpha9e-01_ensemble.csv saved\n",
      "Start simulation with alpha=1.0\n",
      "sh: 1: ./LevyFlight.run: not found\n",
      "\n",
      "outT5e+03N5e+03dt1e-01alpha1e+00_ensemble.csv saved\n",
      "Start simulation with alpha=1.1\n",
      "sh: 1: ./LevyFlight.run: not found\n",
      "\n",
      "outT5e+03N5e+03dt1e-01alpha1e+00_ensemble.csv saved\n",
      "Start simulation with alpha=1.2\n",
      "sh: 1: ./LevyFlight.run: not found\n",
      "\n",
      "outT5e+03N5e+03dt1e-01alpha1e+00_ensemble.csv saved\n",
      "Start simulation with alpha=1.3\n",
      "sh: 1: ./LevyFlight.run: not found\n",
      "\n",
      "outT5e+03N5e+03dt1e-01alpha1e+00_ensemble.csv saved\n",
      "Start simulation with alpha=1.4\n",
      "sh: 1: ./LevyFlight.run: not found\n",
      "\n",
      "outT5e+03N5e+03dt1e-01alpha1e+00_ensemble.csv saved\n",
      "Start simulation with alpha=1.5\n",
      "sh: 1: ./LevyFlight.run: not found\n",
      "\n",
      "outT5e+03N5e+03dt1e-01alpha2e+00_ensemble.csv saved\n",
      "Start simulation with alpha=1.6\n",
      "sh: 1: ./LevyFlight.run: not found\n",
      "\n",
      "outT5e+03N5e+03dt1e-01alpha2e+00_ensemble.csv saved\n",
      "Start simulation with alpha=1.7\n",
      "sh: 1: ./LevyFlight.run: not found\n",
      "\n",
      "outT5e+03N5e+03dt1e-01alpha2e+00_ensemble.csv saved\n",
      "Start simulation with alpha=1.8\n",
      "sh: 1: ./LevyFlight.run: not found\n",
      "\n",
      "outT5e+03N5e+03dt1e-01alpha2e+00_ensemble.csv saved\n",
      "Start simulation with alpha=1.9\n",
      "sh: 1: ./LevyFlight.run: not found\n",
      "\n",
      "outT5e+03N5e+03dt1e-01alpha2e+00_ensemble.csv saved\n"
     ]
    }
   ],
   "source": [
    "runmfpt()"
   ]
  },
  {
   "cell_type": "code",
   "execution_count": null,
   "metadata": {},
   "outputs": [],
   "source": []
  }
 ],
 "metadata": {
  "kernelspec": {
   "display_name": "Python3.9",
   "language": "python",
   "name": "python3"
  },
  "language_info": {
   "codemirror_mode": {
    "name": "ipython",
    "version": 3
   },
   "file_extension": ".py",
   "mimetype": "text/x-python",
   "name": "python",
   "nbconvert_exporter": "python",
   "pygments_lexer": "ipython3",
   "version": "3.9.7"
  },
  "orig_nbformat": 4
 },
 "nbformat": 4,
 "nbformat_minor": 2
}
