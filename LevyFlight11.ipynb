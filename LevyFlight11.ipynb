{
 "cells": [
  {
   "attachments": {},
   "cell_type": "markdown",
   "metadata": {},
   "source": [
    "# Run ensemble simulation in loop"
   ]
  },
  {
   "cell_type": "code",
   "execution_count": 3,
   "metadata": {},
   "outputs": [
    {
     "name": "stdout",
     "output_type": "stream",
     "text": [
      "The autoreload extension is already loaded. To reload it, use:\n",
      "  %reload_ext autoreload\n"
     ]
    }
   ],
   "source": [
    "%load_ext autoreload\n",
    "%autoreload 2\n",
    "from runmfpt import runmfpt"
   ]
  },
  {
   "cell_type": "code",
   "execution_count": 4,
   "metadata": {},
   "outputs": [
    {
     "name": "stdout",
     "output_type": "stream",
     "text": [
      "Start simulation with alpha=0.1\n",
      "alpha = 0.1\n",
      "D = 2\n",
      "gamma = 1\n",
      "dt = 0.1\n",
      "minDt = 0\n",
      "eta = 0.1\n",
      "T = 5000\n",
      "t0 = 0\n",
      "x0 = 5\n",
      "y0 = 5\n",
      "potential_file = ./input/landscape1.csv\n",
      "potential_file_second = ./input/landscape2.csv\n",
      "kmr1 = 90\n",
      "kmr2 = 100\n",
      "kr1 = 10\n",
      "kr2 = 20\n",
      "seed = 785130169\n",
      "Ntraj = 5000\n",
      "Only end points of the 5000 trajectories will be printed as the output.\n",
      "Running the simulation...\n",
      "\n",
      "-------------launch_2D_ensemble_potential_file()-----------\n",
      "potential_file=./input/landscape1.csv\n",
      "potential_file_second=./input/landscape2.csv\n",
      "Average time of simulation: 67.5939\n",
      "Time simulation variance: 3864.9\n",
      "Output written to STDOUT.\n",
      "Done.\n",
      "\n",
      "\n",
      "outT5e+03N5e+03dt1e-01alpha1e-01_ensemble.csv saved\n",
      "Start simulation with alpha=0.2\n",
      "alpha = 0.2\n",
      "D = 2\n",
      "gamma = 1\n",
      "dt = 0.1\n",
      "minDt = 0\n",
      "eta = 0.1\n",
      "T = 5000\n",
      "t0 = 0\n",
      "x0 = 5\n",
      "y0 = 5\n",
      "potential_file = ./input/landscape1.csv\n",
      "potential_file_second = ./input/landscape2.csv\n",
      "kmr1 = 90\n",
      "kmr2 = 100\n",
      "kr1 = 10\n",
      "kr2 = 20\n",
      "seed = 785130169\n",
      "Ntraj = 5000\n",
      "Only end points of the 5000 trajectories will be printed as the output.\n",
      "Running the simulation...\n",
      "\n",
      "-------------launch_2D_ensemble_potential_file()-----------\n",
      "potential_file=./input/landscape1.csv\n",
      "potential_file_second=./input/landscape2.csv\n",
      "Average time of simulation: 63.8452\n",
      "Time simulation variance: 3576.72\n",
      "Output written to STDOUT.\n",
      "Done.\n",
      "\n",
      "\n",
      "outT5e+03N5e+03dt1e-01alpha2e-01_ensemble.csv saved\n",
      "Start simulation with alpha=0.3\n"
     ]
    }
   ],
   "source": [
    "runmfpt()"
   ]
  },
  {
   "cell_type": "code",
   "execution_count": null,
   "metadata": {},
   "outputs": [],
   "source": []
  }
 ],
 "metadata": {
  "kernelspec": {
   "display_name": "Python3.9",
   "language": "python",
   "name": "python3"
  },
  "language_info": {
   "codemirror_mode": {
    "name": "ipython",
    "version": 3
   },
   "file_extension": ".py",
   "mimetype": "text/x-python",
   "name": "python",
   "nbconvert_exporter": "python",
   "pygments_lexer": "ipython3",
   "version": "3.9.12"
  },
  "orig_nbformat": 4
 },
 "nbformat": 4,
 "nbformat_minor": 2
}
